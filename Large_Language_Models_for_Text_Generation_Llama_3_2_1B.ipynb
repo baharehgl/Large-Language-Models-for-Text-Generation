{
  "nbformat": 4,
  "nbformat_minor": 0,
  "metadata": {
    "colab": {
      "provenance": [],
      "authorship_tag": "ABX9TyM8v7pvq8U0SbOeLJmJYgaB",
      "include_colab_link": true
    },
    "kernelspec": {
      "name": "python3",
      "display_name": "Python 3"
    },
    "language_info": {
      "name": "python"
    }
  },
  "cells": [
    {
      "cell_type": "markdown",
      "metadata": {
        "id": "view-in-github",
        "colab_type": "text"
      },
      "source": [
        "<a href=\"https://colab.research.google.com/github/baharehgl/Large-Language-Models-for-Text-Generation/blob/main/Large_Language_Models_for_Text_Generation_Llama_3_2_1B.ipynb\" target=\"_parent\"><img src=\"https://colab.research.google.com/assets/colab-badge.svg\" alt=\"Open In Colab\"/></a>"
      ]
    },
    {
      "cell_type": "code",
      "execution_count": null,
      "metadata": {
        "id": "5lob9edy9I8D"
      },
      "outputs": [],
      "source": []
    }
  ]
}